{
  "nbformat": 4,
  "nbformat_minor": 0,
  "metadata": {
    "colab": {
      "provenance": [],
      "gpuType": "T4",
      "include_colab_link": true
    },
    "kernelspec": {
      "name": "python3",
      "display_name": "Python 3"
    },
    "language_info": {
      "name": "python"
    },
    "accelerator": "GPU",
    "widgets": {
      "application/vnd.jupyter.widget-state+json": {
        "e76754e7057149c181fff0973534d95f": {
          "model_module": "@jupyter-widgets/controls",
          "model_name": "HBoxModel",
          "model_module_version": "1.5.0",
          "state": {
            "_dom_classes": [],
            "_model_module": "@jupyter-widgets/controls",
            "_model_module_version": "1.5.0",
            "_model_name": "HBoxModel",
            "_view_count": null,
            "_view_module": "@jupyter-widgets/controls",
            "_view_module_version": "1.5.0",
            "_view_name": "HBoxView",
            "box_style": "",
            "children": [
              "IPY_MODEL_f97590b1c96c4b92a2b7c637beed9431",
              "IPY_MODEL_7a0cd1bfee444a9fb8c730bdd65f9e65",
              "IPY_MODEL_e7a094cf598b494c941a541b7379595c"
            ],
            "layout": "IPY_MODEL_f05ce79608324799a7555989253c9cc8"
          }
        },
        "f97590b1c96c4b92a2b7c637beed9431": {
          "model_module": "@jupyter-widgets/controls",
          "model_name": "HTMLModel",
          "model_module_version": "1.5.0",
          "state": {
            "_dom_classes": [],
            "_model_module": "@jupyter-widgets/controls",
            "_model_module_version": "1.5.0",
            "_model_name": "HTMLModel",
            "_view_count": null,
            "_view_module": "@jupyter-widgets/controls",
            "_view_module_version": "1.5.0",
            "_view_name": "HTMLView",
            "description": "",
            "description_tooltip": null,
            "layout": "IPY_MODEL_797641f63bcb4051ab3ae94f39bba0f6",
            "placeholder": "​",
            "style": "IPY_MODEL_46e8a15cc9a64623a2aebb587e91c55c",
            "value": "100%"
          }
        },
        "7a0cd1bfee444a9fb8c730bdd65f9e65": {
          "model_module": "@jupyter-widgets/controls",
          "model_name": "FloatProgressModel",
          "model_module_version": "1.5.0",
          "state": {
            "_dom_classes": [],
            "_model_module": "@jupyter-widgets/controls",
            "_model_module_version": "1.5.0",
            "_model_name": "FloatProgressModel",
            "_view_count": null,
            "_view_module": "@jupyter-widgets/controls",
            "_view_module_version": "1.5.0",
            "_view_name": "ProgressView",
            "bar_style": "success",
            "description": "",
            "description_tooltip": null,
            "layout": "IPY_MODEL_921ab1d6d98d48c78fcb7ccb32260789",
            "max": 103,
            "min": 0,
            "orientation": "horizontal",
            "style": "IPY_MODEL_74dde0ad2fce41cdaf4813c012b4c345",
            "value": 103
          }
        },
        "e7a094cf598b494c941a541b7379595c": {
          "model_module": "@jupyter-widgets/controls",
          "model_name": "HTMLModel",
          "model_module_version": "1.5.0",
          "state": {
            "_dom_classes": [],
            "_model_module": "@jupyter-widgets/controls",
            "_model_module_version": "1.5.0",
            "_model_name": "HTMLModel",
            "_view_count": null,
            "_view_module": "@jupyter-widgets/controls",
            "_view_module_version": "1.5.0",
            "_view_name": "HTMLView",
            "description": "",
            "description_tooltip": null,
            "layout": "IPY_MODEL_edfabd7ff631443e8b62cfff9ecc4343",
            "placeholder": "​",
            "style": "IPY_MODEL_73fa1c5081de422eb939ca85a765374e",
            "value": " 103/103 [00:22&lt;00:00,  4.31it/s]"
          }
        },
        "f05ce79608324799a7555989253c9cc8": {
          "model_module": "@jupyter-widgets/base",
          "model_name": "LayoutModel",
          "model_module_version": "1.2.0",
          "state": {
            "_model_module": "@jupyter-widgets/base",
            "_model_module_version": "1.2.0",
            "_model_name": "LayoutModel",
            "_view_count": null,
            "_view_module": "@jupyter-widgets/base",
            "_view_module_version": "1.2.0",
            "_view_name": "LayoutView",
            "align_content": null,
            "align_items": null,
            "align_self": null,
            "border": null,
            "bottom": null,
            "display": null,
            "flex": null,
            "flex_flow": null,
            "grid_area": null,
            "grid_auto_columns": null,
            "grid_auto_flow": null,
            "grid_auto_rows": null,
            "grid_column": null,
            "grid_gap": null,
            "grid_row": null,
            "grid_template_areas": null,
            "grid_template_columns": null,
            "grid_template_rows": null,
            "height": null,
            "justify_content": null,
            "justify_items": null,
            "left": null,
            "margin": null,
            "max_height": null,
            "max_width": null,
            "min_height": null,
            "min_width": null,
            "object_fit": null,
            "object_position": null,
            "order": null,
            "overflow": null,
            "overflow_x": null,
            "overflow_y": null,
            "padding": null,
            "right": null,
            "top": null,
            "visibility": null,
            "width": null
          }
        },
        "797641f63bcb4051ab3ae94f39bba0f6": {
          "model_module": "@jupyter-widgets/base",
          "model_name": "LayoutModel",
          "model_module_version": "1.2.0",
          "state": {
            "_model_module": "@jupyter-widgets/base",
            "_model_module_version": "1.2.0",
            "_model_name": "LayoutModel",
            "_view_count": null,
            "_view_module": "@jupyter-widgets/base",
            "_view_module_version": "1.2.0",
            "_view_name": "LayoutView",
            "align_content": null,
            "align_items": null,
            "align_self": null,
            "border": null,
            "bottom": null,
            "display": null,
            "flex": null,
            "flex_flow": null,
            "grid_area": null,
            "grid_auto_columns": null,
            "grid_auto_flow": null,
            "grid_auto_rows": null,
            "grid_column": null,
            "grid_gap": null,
            "grid_row": null,
            "grid_template_areas": null,
            "grid_template_columns": null,
            "grid_template_rows": null,
            "height": null,
            "justify_content": null,
            "justify_items": null,
            "left": null,
            "margin": null,
            "max_height": null,
            "max_width": null,
            "min_height": null,
            "min_width": null,
            "object_fit": null,
            "object_position": null,
            "order": null,
            "overflow": null,
            "overflow_x": null,
            "overflow_y": null,
            "padding": null,
            "right": null,
            "top": null,
            "visibility": null,
            "width": null
          }
        },
        "46e8a15cc9a64623a2aebb587e91c55c": {
          "model_module": "@jupyter-widgets/controls",
          "model_name": "DescriptionStyleModel",
          "model_module_version": "1.5.0",
          "state": {
            "_model_module": "@jupyter-widgets/controls",
            "_model_module_version": "1.5.0",
            "_model_name": "DescriptionStyleModel",
            "_view_count": null,
            "_view_module": "@jupyter-widgets/base",
            "_view_module_version": "1.2.0",
            "_view_name": "StyleView",
            "description_width": ""
          }
        },
        "921ab1d6d98d48c78fcb7ccb32260789": {
          "model_module": "@jupyter-widgets/base",
          "model_name": "LayoutModel",
          "model_module_version": "1.2.0",
          "state": {
            "_model_module": "@jupyter-widgets/base",
            "_model_module_version": "1.2.0",
            "_model_name": "LayoutModel",
            "_view_count": null,
            "_view_module": "@jupyter-widgets/base",
            "_view_module_version": "1.2.0",
            "_view_name": "LayoutView",
            "align_content": null,
            "align_items": null,
            "align_self": null,
            "border": null,
            "bottom": null,
            "display": null,
            "flex": null,
            "flex_flow": null,
            "grid_area": null,
            "grid_auto_columns": null,
            "grid_auto_flow": null,
            "grid_auto_rows": null,
            "grid_column": null,
            "grid_gap": null,
            "grid_row": null,
            "grid_template_areas": null,
            "grid_template_columns": null,
            "grid_template_rows": null,
            "height": null,
            "justify_content": null,
            "justify_items": null,
            "left": null,
            "margin": null,
            "max_height": null,
            "max_width": null,
            "min_height": null,
            "min_width": null,
            "object_fit": null,
            "object_position": null,
            "order": null,
            "overflow": null,
            "overflow_x": null,
            "overflow_y": null,
            "padding": null,
            "right": null,
            "top": null,
            "visibility": null,
            "width": null
          }
        },
        "74dde0ad2fce41cdaf4813c012b4c345": {
          "model_module": "@jupyter-widgets/controls",
          "model_name": "ProgressStyleModel",
          "model_module_version": "1.5.0",
          "state": {
            "_model_module": "@jupyter-widgets/controls",
            "_model_module_version": "1.5.0",
            "_model_name": "ProgressStyleModel",
            "_view_count": null,
            "_view_module": "@jupyter-widgets/base",
            "_view_module_version": "1.2.0",
            "_view_name": "StyleView",
            "bar_color": null,
            "description_width": ""
          }
        },
        "edfabd7ff631443e8b62cfff9ecc4343": {
          "model_module": "@jupyter-widgets/base",
          "model_name": "LayoutModel",
          "model_module_version": "1.2.0",
          "state": {
            "_model_module": "@jupyter-widgets/base",
            "_model_module_version": "1.2.0",
            "_model_name": "LayoutModel",
            "_view_count": null,
            "_view_module": "@jupyter-widgets/base",
            "_view_module_version": "1.2.0",
            "_view_name": "LayoutView",
            "align_content": null,
            "align_items": null,
            "align_self": null,
            "border": null,
            "bottom": null,
            "display": null,
            "flex": null,
            "flex_flow": null,
            "grid_area": null,
            "grid_auto_columns": null,
            "grid_auto_flow": null,
            "grid_auto_rows": null,
            "grid_column": null,
            "grid_gap": null,
            "grid_row": null,
            "grid_template_areas": null,
            "grid_template_columns": null,
            "grid_template_rows": null,
            "height": null,
            "justify_content": null,
            "justify_items": null,
            "left": null,
            "margin": null,
            "max_height": null,
            "max_width": null,
            "min_height": null,
            "min_width": null,
            "object_fit": null,
            "object_position": null,
            "order": null,
            "overflow": null,
            "overflow_x": null,
            "overflow_y": null,
            "padding": null,
            "right": null,
            "top": null,
            "visibility": null,
            "width": null
          }
        },
        "73fa1c5081de422eb939ca85a765374e": {
          "model_module": "@jupyter-widgets/controls",
          "model_name": "DescriptionStyleModel",
          "model_module_version": "1.5.0",
          "state": {
            "_model_module": "@jupyter-widgets/controls",
            "_model_module_version": "1.5.0",
            "_model_name": "DescriptionStyleModel",
            "_view_count": null,
            "_view_module": "@jupyter-widgets/base",
            "_view_module_version": "1.2.0",
            "_view_name": "StyleView",
            "description_width": ""
          }
        }
      }
    }
  },
  "cells": [
    {
      "cell_type": "markdown",
      "metadata": {
        "id": "view-in-github",
        "colab_type": "text"
      },
      "source": [
        "<a href=\"https://colab.research.google.com/github/devdhruvper/LegalBrain-VectorSearch-1/blob/main/LegalBrain-VectorSearch-1/scripts/Pinnecone_DT_index.ipynb\" target=\"_parent\"><img src=\"https://colab.research.google.com/assets/colab-badge.svg\" alt=\"Open In Colab\"/></a>"
      ]
    },
    {
      "cell_type": "markdown",
      "source": [
        "###Importing and getting the necessary stuff"
      ],
      "metadata": {
        "id": "cj1APtzcq3C7"
      }
    },
    {
      "cell_type": "code",
      "source": [
        "!pip install git+https://github.com/devdhruvper/splade.git"
      ],
      "metadata": {
        "id": "FgtF5j3wzQ_L"
      },
      "execution_count": null,
      "outputs": []
    },
    {
      "cell_type": "code",
      "source": [
        "!pip install sentence_transformers\n",
        "!pip3 install pinecone-client\n",
        "import pandas as pd\n",
        "from sentence_transformers import SentenceTransformer\n",
        "import torch\n",
        "from transformers import AutoTokenizer\n",
        "import pinecone"
      ],
      "metadata": {
        "id": "LYBhqFgFzWoU"
      },
      "execution_count": null,
      "outputs": []
    },
    {
      "cell_type": "code",
      "execution_count": null,
      "metadata": {
        "id": "nNMDfwTaFQB3"
      },
      "outputs": [],
      "source": [
        "!pip3 install pinecone-client"
      ]
    },
    {
      "cell_type": "code",
      "source": [
        "import pinecone"
      ],
      "metadata": {
        "id": "xawWAPiPFv6u"
      },
      "execution_count": null,
      "outputs": []
    },
    {
      "cell_type": "code",
      "source": [
        "!pip install --upgrade pinecone-client"
      ],
      "metadata": {
        "colab": {
          "base_uri": "https://localhost:8080/"
        },
        "id": "ezahVe7rF3F4",
        "outputId": "0ee27d28-cca1-425e-a0c3-f33b1af7e56e"
      },
      "execution_count": null,
      "outputs": [
        {
          "output_type": "stream",
          "name": "stdout",
          "text": [
            "Looking in indexes: https://pypi.org/simple, https://us-python.pkg.dev/colab-wheels/public/simple/\n",
            "Requirement already satisfied: pinecone-client in /usr/local/lib/python3.10/dist-packages (2.2.2)\n",
            "Requirement already satisfied: requests>=2.19.0 in /usr/local/lib/python3.10/dist-packages (from pinecone-client) (2.27.1)\n",
            "Requirement already satisfied: pyyaml>=5.4 in /usr/local/lib/python3.10/dist-packages (from pinecone-client) (6.0)\n",
            "Requirement already satisfied: loguru>=0.5.0 in /usr/local/lib/python3.10/dist-packages (from pinecone-client) (0.7.0)\n",
            "Requirement already satisfied: typing-extensions>=3.7.4 in /usr/local/lib/python3.10/dist-packages (from pinecone-client) (4.5.0)\n",
            "Requirement already satisfied: dnspython>=2.0.0 in /usr/local/lib/python3.10/dist-packages (from pinecone-client) (2.3.0)\n",
            "Requirement already satisfied: python-dateutil>=2.5.3 in /usr/local/lib/python3.10/dist-packages (from pinecone-client) (2.8.2)\n",
            "Requirement already satisfied: urllib3>=1.21.1 in /usr/local/lib/python3.10/dist-packages (from pinecone-client) (1.26.15)\n",
            "Requirement already satisfied: tqdm>=4.64.1 in /usr/local/lib/python3.10/dist-packages (from pinecone-client) (4.65.0)\n",
            "Requirement already satisfied: numpy>=1.22.0 in /usr/local/lib/python3.10/dist-packages (from pinecone-client) (1.22.4)\n",
            "Requirement already satisfied: six>=1.5 in /usr/local/lib/python3.10/dist-packages (from python-dateutil>=2.5.3->pinecone-client) (1.16.0)\n",
            "Requirement already satisfied: certifi>=2017.4.17 in /usr/local/lib/python3.10/dist-packages (from requests>=2.19.0->pinecone-client) (2022.12.7)\n",
            "Requirement already satisfied: charset-normalizer~=2.0.0 in /usr/local/lib/python3.10/dist-packages (from requests>=2.19.0->pinecone-client) (2.0.12)\n",
            "Requirement already satisfied: idna<4,>=2.5 in /usr/local/lib/python3.10/dist-packages (from requests>=2.19.0->pinecone-client) (3.4)\n"
          ]
        }
      ]
    },
    {
      "cell_type": "markdown",
      "source": [
        "#Setting up with api keys"
      ],
      "metadata": {
        "id": "ECJWP9j7rHYx"
      }
    },
    {
      "cell_type": "code",
      "source": [
        "pinecone.init(\n",
        "    api_key=\"f112db94-1b02-44ec-b1d7-a4cf165fad28\",  # app.pinecone.io\n",
        "    environment=\"us-east1-gcp\"  # next to api key in console\n",
        ")"
      ],
      "metadata": {
        "id": "tBQKAexPF6XB"
      },
      "execution_count": null,
      "outputs": []
    },
    {
      "cell_type": "markdown",
      "source": [
        "#Encoding detector code"
      ],
      "metadata": {
        "id": "YYRYjJwIq-9I"
      }
    },
    {
      "cell_type": "code",
      "source": [
        "import chardet\n",
        "\n",
        "with open(\"/content/Pd1.txt\", \"rb\") as f:\n",
        "  data = f.read()\n",
        "\n",
        "encoding = chardet.detect(bytes(data)).get(\"encoding\")\n",
        "print(encoding)"
      ],
      "metadata": {
        "colab": {
          "base_uri": "https://localhost:8080/"
        },
        "id": "OSG0thK5tZj0",
        "outputId": "a7a63bde-fffe-4e24-f223-02336899a4cb"
      },
      "execution_count": null,
      "outputs": [
        {
          "output_type": "stream",
          "name": "stdout",
          "text": [
            "utf-8\n"
          ]
        }
      ]
    },
    {
      "cell_type": "code",
      "source": [
        "import chardet\n",
        "\n",
        "with open(\"/content/Pd2.txt\", \"rb\") as f:\n",
        "  data = f.read()\n",
        "\n",
        "encoding = chardet.detect(bytes(data)).get(\"encoding\")\n",
        "print(encoding)"
      ],
      "metadata": {
        "id": "zyA4stwpuWl2",
        "colab": {
          "base_uri": "https://localhost:8080/"
        },
        "outputId": "738bc197-c147-4b2e-c46a-23ae1ab46b2a"
      },
      "execution_count": null,
      "outputs": [
        {
          "output_type": "stream",
          "name": "stdout",
          "text": [
            "utf-8\n"
          ]
        }
      ]
    },
    {
      "cell_type": "markdown",
      "source": [
        "###opening files and storing data in variables"
      ],
      "metadata": {
        "id": "4btMslBDrPiQ"
      }
    },
    {
      "cell_type": "code",
      "source": [
        "with open(\"/content/Pd1.txt\", \"r\",encoding=\"utf-8\") as f:\n",
        "  d1 = f.read()\n",
        "  f.close()\n",
        "\n",
        "with open(\"/content/Pd2.txt\", \"r\",encoding=\"utf-8\") as f:\n",
        "  d2 = f.read()\n",
        "  f.close()"
      ],
      "metadata": {
        "id": "tMjhyfl8uelc"
      },
      "execution_count": null,
      "outputs": []
    },
    {
      "cell_type": "code",
      "source": [
        "print(len(d2))"
      ],
      "metadata": {
        "id": "rP2RssXdxGwe",
        "colab": {
          "base_uri": "https://localhost:8080/"
        },
        "outputId": "68063e12-8947-4b1f-fb04-fcd139af5098"
      },
      "execution_count": null,
      "outputs": [
        {
          "output_type": "stream",
          "name": "stdout",
          "text": [
            "184899\n"
          ]
        }
      ]
    },
    {
      "cell_type": "code",
      "source": [
        "print(len(d1))"
      ],
      "metadata": {
        "id": "UJRtiU5fxJdh",
        "colab": {
          "base_uri": "https://localhost:8080/"
        },
        "outputId": "13d3fd47-4a38-4c12-872b-4337bb39f8a5"
      },
      "execution_count": null,
      "outputs": [
        {
          "output_type": "stream",
          "name": "stdout",
          "text": [
            "884988\n"
          ]
        }
      ]
    },
    {
      "cell_type": "code",
      "source": [
        "pinecone.list_indexes()"
      ],
      "metadata": {
        "colab": {
          "base_uri": "https://localhost:8080/"
        },
        "id": "SbyQWVjvGF9h",
        "outputId": "dd215539-4e11-45c1-8fe7-54eb74faa005"
      },
      "execution_count": null,
      "outputs": [
        {
          "output_type": "execute_result",
          "data": {
            "text/plain": [
              "['criminal-laws']"
            ]
          },
          "metadata": {},
          "execution_count": 12
        }
      ]
    },
    {
      "cell_type": "code",
      "source": [
        "index=pinecone.Index('criminal-laws')"
      ],
      "metadata": {
        "id": "XFrxuMBFHeop"
      },
      "execution_count": null,
      "outputs": []
    },
    {
      "cell_type": "markdown",
      "source": [
        "###index stats"
      ],
      "metadata": {
        "id": "danvmJM4rZXY"
      }
    },
    {
      "cell_type": "code",
      "source": [
        "index.describe_index_stats()"
      ],
      "metadata": {
        "colab": {
          "base_uri": "https://localhost:8080/"
        },
        "id": "suXXlKHkH0dw",
        "outputId": "1e876785-3e78-488b-ce1f-4c873c736fea"
      },
      "execution_count": null,
      "outputs": [
        {
          "output_type": "execute_result",
          "data": {
            "text/plain": [
              "{'dimension': 768,\n",
              " 'index_fullness': 0.0,\n",
              " 'namespaces': {'': {'vector_count': 5038}},\n",
              " 'total_vector_count': 5038}"
            ]
          },
          "metadata": {},
          "execution_count": 48
        }
      ]
    },
    {
      "cell_type": "code",
      "source": [
        "index.fetch([f\"{5037}\"])['vectors'][f\"{5037}\"]['metadata']['context']"
      ],
      "metadata": {
        "colab": {
          "base_uri": "https://localhost:8080/",
          "height": 87
        },
        "id": "DlxgMhTmCPbJ",
        "outputId": "adfd53aa-10b2-4fbc-e711-9cffb1ebd76f"
      },
      "execution_count": null,
      "outputs": [
        {
          "output_type": "execute_result",
          "data": {
            "text/plain": [
              "'  \\nExplanation. —”Arms ” means articles of any description designed or adapted as weapons for \\noffence or defence and includes f ire arms, sharp edged weapons, lathis, dandas and sticks.’.  \\n*                                    *                                    *                                     *                               * \\n–––––––––  \\n '"
            ],
            "application/vnd.google.colaboratory.intrinsic+json": {
              "type": "string"
            }
          },
          "metadata": {},
          "execution_count": 49
        }
      ]
    },
    {
      "cell_type": "code",
      "source": [
        "d3[3013]"
      ],
      "metadata": {
        "colab": {
          "base_uri": "https://localhost:8080/"
        },
        "id": "F4pJ43UaYOV6",
        "outputId": "c3d8a0d5-b889-405b-9beb-69a16df9ae57"
      },
      "execution_count": null,
      "outputs": [
        {
          "output_type": "execute_result",
          "data": {
            "text/plain": [
              "{'id': '5037',\n",
              " 'context': '  \\nExplanation. —”Arms ” means articles of any description designed or adapted as weapons for \\noffence or defence and includes f ire arms, sharp edged weapons, lathis, dandas and sticks.’.  \\n*                                    *                                    *                                     *                               * \\n–––––––––  \\n '}"
            ]
          },
          "metadata": {},
          "execution_count": 50
        }
      ]
    },
    {
      "cell_type": "code",
      "source": [
        "# L=[]\n",
        "# for i in range(1472):\n",
        "#   L.append(len(index.fetch([f\"{i}\"])['vectors'][f\"{i}\"]['metadata']['context'].split()))"
      ],
      "metadata": {
        "id": "CpIVJui65e5x"
      },
      "execution_count": null,
      "outputs": []
    },
    {
      "cell_type": "code",
      "source": [
        "# print(min(L),max(L),sum(L)/1472)"
      ],
      "metadata": {
        "id": "Oy2xIfqLD2sa"
      },
      "execution_count": null,
      "outputs": []
    },
    {
      "cell_type": "code",
      "source": [
        "data_left = d2\n",
        "print(data_left)"
      ],
      "metadata": {
        "id": "Nd0ecK83p29O"
      },
      "execution_count": null,
      "outputs": []
    },
    {
      "cell_type": "code",
      "source": [
        "limit = 384\n",
        "\n",
        "def chunker(contexts: list):\n",
        "    chunks = []\n",
        "    all_contexts = ''.join(contexts).split('.')\n",
        "    chunk = []\n",
        "    for context in all_contexts:\n",
        "        chunk.append(context)\n",
        "        if len(chunk) >= 3 and len('.'.join(chunk)) > limit:\n",
        "            # surpassed limit so add to chunks and reset\n",
        "            chunks.append('.'.join(chunk).strip()+'.')\n",
        "            # add some overlap between passages\n",
        "            chunk = chunk[-2:]\n",
        "    # if we finish and still have a chunk, add it\n",
        "    if chunk is not None:\n",
        "        chunks.append('.'.join(chunk))\n",
        "    return chunks"
      ],
      "metadata": {
        "id": "wTcNgkcbKPK6"
      },
      "execution_count": null,
      "outputs": []
    },
    {
      "cell_type": "code",
      "source": [
        "chunks=chunker(data_left)\n",
        "print(chunks[440])"
      ],
      "metadata": {
        "colab": {
          "base_uri": "https://localhost:8080/"
        },
        "id": "mtCb7Gc2rOws",
        "outputId": "6b91ce1c-f822-4c3b-fcc5-49d989c42665"
      },
      "execution_count": null,
      "outputs": [
        {
          "output_type": "stream",
          "name": "stdout",
          "text": [
            "13 [An officer who, with respect to 14 *** any territory or place not forming part of 15 [India or] Her \n",
            "Majesty’s Dominions, is a Political Agent there for , as defined in section 3, 16 [clause (43)], of the General \n",
            "                                                      \n",
            "1. Subs. by the A.O. 1950, for “British”. \n",
            "2. The Words “of Her Majesty, or” Rep . ibid . \n",
            "3. Subs. by the A.O.\n"
          ]
        }
      ]
    },
    {
      "cell_type": "code",
      "source": [
        "from sentence_transformers import SentenceTransformer\n",
        "import torch\n",
        "\n",
        "device = 'cuda' if torch.cuda.is_available() else 'cpu'\n",
        "# check device being run on\n",
        "if device != 'cuda':\n",
        "    print(\"==========\\n\"+\n",
        "          \"WARNING: You are not running on GPU so this may be slow.\\n\"+\n",
        "          \"If on Google Colab, go to top menu > Runtime > Change \"+\n",
        "          \"runtime type > Hardware accelerator > 'GPU' and rerun \"+\n",
        "          \"the notebook.\\n==========\")\n",
        "\n",
        "dense_model = SentenceTransformer(\n",
        "    'msmarco-bert-base-dot-v5',\n",
        "    device=device\n",
        ")\n",
        "dense_model"
      ],
      "metadata": {
        "id": "-ExdwA96y6xz",
        "colab": {
          "base_uri": "https://localhost:8080/"
        },
        "outputId": "a96fe09e-059b-4f63-bef3-e79bc0137a15"
      },
      "execution_count": null,
      "outputs": [
        {
          "output_type": "execute_result",
          "data": {
            "text/plain": [
              "SentenceTransformer(\n",
              "  (0): Transformer({'max_seq_length': 512, 'do_lower_case': False}) with Transformer model: BertModel \n",
              "  (1): Pooling({'word_embedding_dimension': 768, 'pooling_mode_cls_token': False, 'pooling_mode_mean_tokens': True, 'pooling_mode_max_tokens': False, 'pooling_mode_mean_sqrt_len_tokens': False})\n",
              ")"
            ]
          },
          "metadata": {},
          "execution_count": 54
        }
      ]
    },
    {
      "cell_type": "markdown",
      "source": [
        "**Printing first 10 chunks**"
      ],
      "metadata": {
        "id": "iFGAj0e6rsdw"
      }
    },
    {
      "cell_type": "code",
      "source": [
        "d3=[]\n",
        "chunks = chunker(data_left)\n",
        "for i, context in enumerate(chunks):\n",
        "    d3.append({\n",
        "            'id': f\"{i+5038}\",\n",
        "            #Adding 1472 to make the proper id\n",
        "            #Check the actual ids and correct this 1472 accordingly\n",
        "            'context': context\n",
        "        })\n",
        "\n",
        "d3[:10]"
      ],
      "metadata": {
        "id": "Mn7tK60TpN9r"
      },
      "execution_count": null,
      "outputs": []
    },
    {
      "cell_type": "markdown",
      "source": [
        "Splade model"
      ],
      "metadata": {
        "id": "Gq5HfFo3rdTy"
      }
    },
    {
      "cell_type": "code",
      "source": [
        "from splade.models.transformer_rep import Splade\n",
        "\n",
        "sparse_model_id = 'naver/splade-cocondenser-ensembledistil'\n",
        "\n",
        "sparse_model = Splade(sparse_model_id, agg='max')\n",
        "sparse_model.to(device)  # move to GPU if possible\n",
        "sparse_model.eval()"
      ],
      "metadata": {
        "id": "OFy7fFkPy8OE"
      },
      "execution_count": null,
      "outputs": []
    },
    {
      "cell_type": "code",
      "source": [
        "from transformers import AutoTokenizer\n",
        "\n",
        "tokenizer = AutoTokenizer.from_pretrained(sparse_model_id)\n",
        "\n",
        "tokens = tokenizer(d3[0]['context'], return_tensors='pt')\n"
      ],
      "metadata": {
        "id": "RUAfetNKzB3c"
      },
      "execution_count": null,
      "outputs": []
    },
    {
      "cell_type": "code",
      "source": [
        "with torch.no_grad():\n",
        "    sparse_emb = sparse_model(\n",
        "        d_kwargs=tokens.to(device)\n",
        "    )['d_rep'].squeeze()\n",
        "sparse_emb.shape"
      ],
      "metadata": {
        "colab": {
          "base_uri": "https://localhost:8080/"
        },
        "id": "4uYJ5ik2zEts",
        "outputId": "5fd17164-500f-4e43-abcf-630ca23e67af"
      },
      "execution_count": null,
      "outputs": [
        {
          "output_type": "execute_result",
          "data": {
            "text/plain": [
              "torch.Size([30522])"
            ]
          },
          "metadata": {},
          "execution_count": 80
        }
      ]
    },
    {
      "cell_type": "code",
      "source": [
        "indices = sparse_emb.nonzero().squeeze().cpu().tolist()\n",
        "print(len(indices))"
      ],
      "metadata": {
        "colab": {
          "base_uri": "https://localhost:8080/"
        },
        "id": "lP8fYqK48Zf0",
        "outputId": "265fb0f3-8c01-42d1-d1b6-1574339a08c8"
      },
      "execution_count": null,
      "outputs": [
        {
          "output_type": "stream",
          "name": "stdout",
          "text": [
            "118\n"
          ]
        }
      ]
    },
    {
      "cell_type": "code",
      "source": [
        "values = sparse_emb[indices].cpu().tolist()\n",
        "sparse = {'indices': indices, 'values': values}\n",
        "sparse"
      ],
      "metadata": {
        "id": "VPEAaBlK8aiL"
      },
      "execution_count": null,
      "outputs": []
    },
    {
      "cell_type": "code",
      "source": [
        "idx2token = {idx: token for token, idx in tokenizer.get_vocab().items()}\n",
        "\n",
        "sparse_dict_tokens = {\n",
        "    idx2token[idx]: round(weight, 2) for idx, weight in zip(indices, values)\n",
        "}\n",
        "# sort so we can see most relevant tokens first\n",
        "sparse_dict_tokens = {\n",
        "    k: v for k, v in sorted(\n",
        "        sparse_dict_tokens.items(),\n",
        "        key=lambda item: item[1],\n",
        "        reverse=True\n",
        "    )\n",
        "}\n",
        "sparse_dict_tokens"
      ],
      "metadata": {
        "id": "OaQAJjB4zMBn"
      },
      "execution_count": null,
      "outputs": []
    },
    {
      "cell_type": "code",
      "source": [
        "import pinecone\n",
        "\n",
        "\n",
        "def builder(records: list):\n",
        "    ids = [x['id'] for x in records]\n",
        "    contexts = [x['context'] for x in records]\n",
        "    # create dense vecs\n",
        "    dense_vecs = dense_model.encode(contexts).tolist()\n",
        "    # create sparse vecs\n",
        "    input_ids = tokenizer(\n",
        "        contexts, return_tensors='pt',\n",
        "        padding=True, truncation=True\n",
        "    )\n",
        "    with torch.no_grad():\n",
        "        sparse_vecs = sparse_model(\n",
        "            d_kwargs=input_ids.to(device)\n",
        "        )['d_rep'].squeeze()\n",
        "    # convert to upsert format\n",
        "    upserts = []\n",
        "    for _id, dense_vec, sparse_vec, context in zip(ids, dense_vecs, sparse_vecs, contexts):\n",
        "        # extract columns where there are non-zero weights\n",
        "        indices = sparse_vec.nonzero().squeeze().cpu().tolist()  # positions\n",
        "        values = sparse_vec[indices].cpu().tolist()  # weights/scores\n",
        "        # build sparse values dictionary\n",
        "        sparse_values = {\n",
        "            \"indices\": indices,\n",
        "            \"values\": values\n",
        "        }\n",
        "        # build metadata struct\n",
        "        metadata = {'context': context}\n",
        "        # append all to upserts list as pinecone.Vector (or GRPCVector)\n",
        "        upserts.append({\n",
        "            'id': _id,\n",
        "            'values': dense_vec,\n",
        "            'sparse_values': sparse_values,\n",
        "            'metadata': metadata\n",
        "        })\n",
        "    return upserts"
      ],
      "metadata": {
        "id": "SqfXfPRzJY6n"
      },
      "execution_count": null,
      "outputs": []
    },
    {
      "cell_type": "code",
      "source": [
        "len(d3)/7"
      ],
      "metadata": {
        "colab": {
          "base_uri": "https://localhost:8080/"
        },
        "id": "QutyyokT_j4E",
        "outputId": "4d800cca-40f7-49b1-8247-811f25374d75"
      },
      "execution_count": null,
      "outputs": [
        {
          "output_type": "execute_result",
          "data": {
            "text/plain": [
              "103.0"
            ]
          },
          "metadata": {},
          "execution_count": 88
        }
      ]
    },
    {
      "cell_type": "code",
      "source": [
        "from tqdm.auto import tqdm\n",
        "\n",
        "batch_size = 7\n",
        "\n",
        "for i in tqdm(range(0, len(d3), batch_size)):\n",
        "    # extract batch of data\n",
        "    i_end = min(i+batch_size, len(d3))\n",
        "    batch = d3[i:i_end]\n",
        "    # pass data to builder and upsert\n",
        "    index.upsert(builder(d3[i:i+batch_size]))"
      ],
      "metadata": {
        "colab": {
          "base_uri": "https://localhost:8080/",
          "height": 49,
          "referenced_widgets": [
            "e76754e7057149c181fff0973534d95f",
            "f97590b1c96c4b92a2b7c637beed9431",
            "7a0cd1bfee444a9fb8c730bdd65f9e65",
            "e7a094cf598b494c941a541b7379595c",
            "f05ce79608324799a7555989253c9cc8",
            "797641f63bcb4051ab3ae94f39bba0f6",
            "46e8a15cc9a64623a2aebb587e91c55c",
            "921ab1d6d98d48c78fcb7ccb32260789",
            "74dde0ad2fce41cdaf4813c012b4c345",
            "edfabd7ff631443e8b62cfff9ecc4343",
            "73fa1c5081de422eb939ca85a765374e"
          ]
        },
        "id": "eainofXO888k",
        "outputId": "ada7df0b-5496-4544-8fc0-a71c9e7f9b19"
      },
      "execution_count": null,
      "outputs": [
        {
          "output_type": "display_data",
          "data": {
            "text/plain": [
              "  0%|          | 0/103 [00:00<?, ?it/s]"
            ],
            "application/vnd.jupyter.widget-view+json": {
              "version_major": 2,
              "version_minor": 0,
              "model_id": "e76754e7057149c181fff0973534d95f"
            }
          },
          "metadata": {}
        }
      ]
    },
    {
      "cell_type": "code",
      "source": [
        "index.describe_index_stats()"
      ],
      "metadata": {
        "colab": {
          "base_uri": "https://localhost:8080/"
        },
        "id": "Jatqg2SL9Z9U",
        "outputId": "9bec614e-c17a-4ddd-ad30-9ed1719b4252"
      },
      "execution_count": null,
      "outputs": [
        {
          "output_type": "execute_result",
          "data": {
            "text/plain": [
              "{'dimension': 768,\n",
              " 'index_fullness': 0.0,\n",
              " 'namespaces': {'': {'vector_count': 5759}},\n",
              " 'total_vector_count': 5759}"
            ]
          },
          "metadata": {},
          "execution_count": 90
        }
      ]
    }
  ]
}