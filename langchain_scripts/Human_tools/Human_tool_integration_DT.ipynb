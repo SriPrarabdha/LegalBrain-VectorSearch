{
  "nbformat": 4,
  "nbformat_minor": 0,
  "metadata": {
    "colab": {
      "provenance": [],
      "authorship_tag": "ABX9TyMcmYB1kRtWHec7nW2omuSJ",
      "include_colab_link": true
    },
    "kernelspec": {
      "name": "python3",
      "display_name": "Python 3"
    },
    "language_info": {
      "name": "python"
    }
  },
  "cells": [
    {
      "cell_type": "markdown",
      "metadata": {
        "id": "view-in-github",
        "colab_type": "text"
      },
      "source": [
        "<a href=\"https://colab.research.google.com/github/devdhruvper/LegalBrain-VectorSearch-1/blob/main/langchain_scripts/Human_tools/Human_tool_integration_DT.ipynb\" target=\"_parent\"><img src=\"https://colab.research.google.com/assets/colab-badge.svg\" alt=\"Open In Colab\"/></a>"
      ]
    },
    {
      "cell_type": "markdown",
      "source": [
        "intergation of human tool -> sample    --DT"
      ],
      "metadata": {
        "id": "Ovl1y6sNpT81"
      }
    },
    {
      "cell_type": "code",
      "execution_count": 18,
      "metadata": {
        "colab": {
          "base_uri": "https://localhost:8080/"
        },
        "id": "JRUm4jPKk4Ec",
        "outputId": "3cdfa110-53a6-457c-ae8d-494c28ade14c"
      },
      "outputs": [
        {
          "output_type": "stream",
          "name": "stdout",
          "text": [
            "Looking in indexes: https://pypi.org/simple, https://us-python.pkg.dev/colab-wheels/public/simple/\n",
            "Requirement already satisfied: fastapi in /usr/local/lib/python3.10/dist-packages (0.98.0)\n",
            "Requirement already satisfied: pydantic!=1.8,!=1.8.1,<2.0.0,>=1.7.4 in /usr/local/lib/python3.10/dist-packages (from fastapi) (1.10.9)\n",
            "Requirement already satisfied: starlette<0.28.0,>=0.27.0 in /usr/local/lib/python3.10/dist-packages (from fastapi) (0.27.0)\n",
            "Requirement already satisfied: typing-extensions>=4.2.0 in /usr/local/lib/python3.10/dist-packages (from pydantic!=1.8,!=1.8.1,<2.0.0,>=1.7.4->fastapi) (4.6.3)\n",
            "Requirement already satisfied: anyio<5,>=3.4.0 in /usr/local/lib/python3.10/dist-packages (from starlette<0.28.0,>=0.27.0->fastapi) (3.7.0)\n",
            "Requirement already satisfied: idna>=2.8 in /usr/local/lib/python3.10/dist-packages (from anyio<5,>=3.4.0->starlette<0.28.0,>=0.27.0->fastapi) (3.4)\n",
            "Requirement already satisfied: sniffio>=1.1 in /usr/local/lib/python3.10/dist-packages (from anyio<5,>=3.4.0->starlette<0.28.0,>=0.27.0->fastapi) (1.3.0)\n",
            "Requirement already satisfied: exceptiongroup in /usr/local/lib/python3.10/dist-packages (from anyio<5,>=3.4.0->starlette<0.28.0,>=0.27.0->fastapi) (1.1.1)\n",
            "Looking in indexes: https://pypi.org/simple, https://us-python.pkg.dev/colab-wheels/public/simple/\n",
            "Requirement already satisfied: pinecone-client in /usr/local/lib/python3.10/dist-packages (2.2.2)\n",
            "Requirement already satisfied: requests>=2.19.0 in /usr/local/lib/python3.10/dist-packages (from pinecone-client) (2.27.1)\n",
            "Requirement already satisfied: pyyaml>=5.4 in /usr/local/lib/python3.10/dist-packages (from pinecone-client) (6.0)\n",
            "Requirement already satisfied: loguru>=0.5.0 in /usr/local/lib/python3.10/dist-packages (from pinecone-client) (0.7.0)\n",
            "Requirement already satisfied: typing-extensions>=3.7.4 in /usr/local/lib/python3.10/dist-packages (from pinecone-client) (4.6.3)\n",
            "Requirement already satisfied: dnspython>=2.0.0 in /usr/local/lib/python3.10/dist-packages (from pinecone-client) (2.3.0)\n",
            "Requirement already satisfied: python-dateutil>=2.5.3 in /usr/local/lib/python3.10/dist-packages (from pinecone-client) (2.8.2)\n",
            "Requirement already satisfied: urllib3>=1.21.1 in /usr/local/lib/python3.10/dist-packages (from pinecone-client) (1.26.16)\n",
            "Requirement already satisfied: tqdm>=4.64.1 in /usr/local/lib/python3.10/dist-packages (from pinecone-client) (4.65.0)\n",
            "Requirement already satisfied: numpy>=1.22.0 in /usr/local/lib/python3.10/dist-packages (from pinecone-client) (1.22.4)\n",
            "Requirement already satisfied: six>=1.5 in /usr/local/lib/python3.10/dist-packages (from python-dateutil>=2.5.3->pinecone-client) (1.16.0)\n",
            "Requirement already satisfied: certifi>=2017.4.17 in /usr/local/lib/python3.10/dist-packages (from requests>=2.19.0->pinecone-client) (2023.5.7)\n",
            "Requirement already satisfied: charset-normalizer~=2.0.0 in /usr/local/lib/python3.10/dist-packages (from requests>=2.19.0->pinecone-client) (2.0.12)\n",
            "Requirement already satisfied: idna<4,>=2.5 in /usr/local/lib/python3.10/dist-packages (from requests>=2.19.0->pinecone-client) (3.4)\n",
            "Looking in indexes: https://pypi.org/simple, https://us-python.pkg.dev/colab-wheels/public/simple/\n",
            "Requirement already satisfied: pydantic in /usr/local/lib/python3.10/dist-packages (1.10.9)\n",
            "Requirement already satisfied: typing-extensions>=4.2.0 in /usr/local/lib/python3.10/dist-packages (from pydantic) (4.6.3)\n",
            "Looking in indexes: https://pypi.org/simple, https://us-python.pkg.dev/colab-wheels/public/simple/\n",
            "Requirement already satisfied: pinecone-text in /usr/local/lib/python3.10/dist-packages (0.5.2)\n",
            "Requirement already satisfied: mmh3<4.0.0,>=3.1.0 in /usr/local/lib/python3.10/dist-packages (from pinecone-text) (3.1.0)\n",
            "Requirement already satisfied: nltk<4.0.0,>=3.6.5 in /usr/local/lib/python3.10/dist-packages (from pinecone-text) (3.8.1)\n",
            "Requirement already satisfied: wget<4.0,>=3.2 in /usr/local/lib/python3.10/dist-packages (from pinecone-text) (3.2)\n",
            "Requirement already satisfied: click in /usr/local/lib/python3.10/dist-packages (from nltk<4.0.0,>=3.6.5->pinecone-text) (8.1.3)\n",
            "Requirement already satisfied: joblib in /usr/local/lib/python3.10/dist-packages (from nltk<4.0.0,>=3.6.5->pinecone-text) (1.2.0)\n",
            "Requirement already satisfied: regex>=2021.8.3 in /usr/local/lib/python3.10/dist-packages (from nltk<4.0.0,>=3.6.5->pinecone-text) (2022.10.31)\n",
            "Requirement already satisfied: tqdm in /usr/local/lib/python3.10/dist-packages (from nltk<4.0.0,>=3.6.5->pinecone-text) (4.65.0)\n",
            "Looking in indexes: https://pypi.org/simple, https://us-python.pkg.dev/colab-wheels/public/simple/\n",
            "Requirement already satisfied: google-search-results in /usr/local/lib/python3.10/dist-packages (2.4.2)\n",
            "Requirement already satisfied: requests in /usr/local/lib/python3.10/dist-packages (from google-search-results) (2.27.1)\n",
            "Requirement already satisfied: urllib3<1.27,>=1.21.1 in /usr/local/lib/python3.10/dist-packages (from requests->google-search-results) (1.26.16)\n",
            "Requirement already satisfied: certifi>=2017.4.17 in /usr/local/lib/python3.10/dist-packages (from requests->google-search-results) (2023.5.7)\n",
            "Requirement already satisfied: charset-normalizer~=2.0.0 in /usr/local/lib/python3.10/dist-packages (from requests->google-search-results) (2.0.12)\n",
            "Requirement already satisfied: idna<4,>=2.5 in /usr/local/lib/python3.10/dist-packages (from requests->google-search-results) (3.4)\n"
          ]
        }
      ],
      "source": [
        "#installing dependecies\n",
        "!pip install langchain\n",
        "!pip install fastapi\n",
        "!pip3 install pinecone-client\n",
        "!pip install pydantic\n",
        "!pip install pinecone-text\n",
        "!pip install google-search-results\n",
        "from langchain.retrievers import PineconeHybridSearchRetriever\n",
        "from langchain.embeddings import HuggingFaceEmbeddings\n",
        "from langchain.chat_models import ChatOpenAI\n",
        "from langchain.chains import RetrievalQA\n",
        "from langchain.agents import Tool , initialize_agent\n",
        "from langchain import SerpAPIWrapper\n",
        "from langchain.agents import AgentType\n",
        "from fastapi.responses import StreamingResponse\n",
        "import os\n",
        "from langchain import LLMMathChain, SerpAPIWrapper\n",
        "from langchain.agents import AgentType, initialize_agent\n",
        "from langchain.chat_models import ChatOpenAI\n",
        "from langchain.tools import BaseTool, StructuredTool, Tool, tool"
      ]
    },
    {
      "cell_type": "code",
      "source": [
        "!pip install google-search-results\n",
        "!pip install openai"
      ],
      "metadata": {
        "colab": {
          "base_uri": "https://localhost:8080/"
        },
        "id": "QUsJINqGnOf8",
        "outputId": "0013a9f7-fe43-4d12-a0ad-456ed7e396d0"
      },
      "execution_count": 11,
      "outputs": [
        {
          "output_type": "stream",
          "name": "stdout",
          "text": [
            "Installing collected packages: openai\n",
            "Successfully installed openai-0.27.8\n"
          ]
        }
      ]
    },
    {
      "cell_type": "markdown",
      "source": [
        "###setting up enviornment variable"
      ],
      "metadata": {
        "id": "RsV9NMUJpMIM"
      }
    },
    {
      "cell_type": "code",
      "source": [
        "openai_api_key=\"insert the key\"\n",
        "os.environ[\"SERPAPI_API_KEY\"] = \"insert the key\""
      ],
      "metadata": {
        "id": "hBanSX2-lHg7"
      },
      "execution_count": 12,
      "outputs": []
    },
    {
      "cell_type": "code",
      "source": [
        "# Load the tool configs that are needed.\n",
        "search = SerpAPIWrapper()\n",
        "llm = ChatOpenAI(temperature=0.0,openai_api_key=openai_api_key)\n",
        "llm_math_chain = LLMMathChain(llm=llm, verbose=True)\n",
        "tools = [\n",
        "    Tool.from_function(\n",
        "        func=search.run,\n",
        "        name=\"Search\",\n",
        "        description=\"useful for when you need to answer questions about current events\"\n",
        "        # coroutine= ... <- you can specify an async method if desired as well\n",
        "    ),\n",
        "]"
      ],
      "metadata": {
        "id": "Q27CISc6lSYj"
      },
      "execution_count": null,
      "outputs": []
    },
    {
      "cell_type": "code",
      "source": [
        "from pydantic import BaseModel, Field\n",
        "\n",
        "\n",
        "class CalculatorInput(BaseModel):\n",
        "    question: str = Field()\n",
        "\n",
        "\n",
        "tools.append(\n",
        "    Tool.from_function(\n",
        "        func=llm_math_chain.run,\n",
        "        name=\"Calculator\",\n",
        "        description=\"useful for when you need to answer questions about math\",\n",
        "        args_schema=CalculatorInput\n",
        "        # coroutine= ... <- you can specify an async method if desired as well\n",
        "    )\n",
        ")"
      ],
      "metadata": {
        "id": "n7bNtWkclWYq"
      },
      "execution_count": 14,
      "outputs": []
    },
    {
      "cell_type": "code",
      "source": [
        "from langchain.tools import HumanInputRun\n",
        "tools.append(HumanInputRun())"
      ],
      "metadata": {
        "id": "oTSvjrxilYSD"
      },
      "execution_count": 15,
      "outputs": []
    },
    {
      "cell_type": "code",
      "source": [
        "agent = initialize_agent(\n",
        "    tools, llm, agent=AgentType.ZERO_SHOT_REACT_DESCRIPTION, verbose=True,max_iterations=15\n",
        ")"
      ],
      "metadata": {
        "id": "WF-J62A1laMK"
      },
      "execution_count": 16,
      "outputs": []
    },
    {
      "cell_type": "markdown",
      "source": [
        "###sample prompt"
      ],
      "metadata": {
        "id": "d_Hf33EmpQGl"
      }
    },
    {
      "cell_type": "code",
      "source": [
        "agent.run(\"who is james cameroon\")"
      ],
      "metadata": {
        "colab": {
          "base_uri": "https://localhost:8080/",
          "height": 455
        },
        "id": "KBV-iJL1lbo6",
        "outputId": "09013905-ee87-4f0b-b6da-45762b2d2bef"
      },
      "execution_count": 17,
      "outputs": [
        {
          "output_type": "stream",
          "name": "stdout",
          "text": [
            "\n",
            "\n",
            "\u001b[1m> Entering new  chain...\u001b[0m\n",
            "\u001b[32;1m\u001b[1;3mI'm not sure if the input is correct. Did they mean James Cameron, the filmmaker?\n",
            "Action: Search\n",
            "Action Input: \"James Cameron\"\u001b[0m\n",
            "Observation: \u001b[36;1m\u001b[1;3mJames Francis Cameron CC is a Canadian filmmaker. A major figure in the post-New Hollywood era, Cameron is considered one of the industry's most innovative filmmakers, regularly making use of novel technologies.\u001b[0m\n",
            "Thought:\u001b[32;1m\u001b[1;3mYes, it was James Cameron the question was referring to.\n",
            "Action: human\n",
            "Action Input: \"Can you provide more information about James Cameron?\"\u001b[0m\n",
            "\n",
            "Can you provide more information about James Cameron?\n",
            "titanic\n",
            "\n",
            "Observation: \u001b[38;5;200m\u001b[1;3mtitanic\u001b[0m\n",
            "Thought:\u001b[32;1m\u001b[1;3mI think the question was asking about James Cameron's most famous film.\n",
            "Action: Search\n",
            "Action Input: \"James Cameron Titanic\"\u001b[0m\n",
            "Observation: \u001b[36;1m\u001b[1;3mJames Cameron's \"Titanic\" is an epic, action-packed romance set against the ill-fated maiden voyage of the R.M.S. Titanic; the pride and joy of the White Star Line and, at the time, the largest moving object ever built. She was the most luxurious liner of her era -- the \"ship of dreams\" -- which ultimately carried over 1,500 people to their death in the ice cold waters of the North Atlantic in the early hours of April 15, 1912.… MORE\u001b[0m\n",
            "Thought:\u001b[32;1m\u001b[1;3mI now know that James Cameron is a Canadian filmmaker known for his innovative use of technology and his most famous film is \"Titanic\". \n",
            "Final Answer: James Cameron is a Canadian filmmaker known for his innovative use of technology and his most famous film is \"Titanic\".\u001b[0m\n",
            "\n",
            "\u001b[1m> Finished chain.\u001b[0m\n"
          ]
        },
        {
          "output_type": "execute_result",
          "data": {
            "text/plain": [
              "'James Cameron is a Canadian filmmaker known for his innovative use of technology and his most famous film is \"Titanic\".'"
            ],
            "application/vnd.google.colaboratory.intrinsic+json": {
              "type": "string"
            }
          },
          "metadata": {},
          "execution_count": 17
        }
      ]
    }
  ]
}